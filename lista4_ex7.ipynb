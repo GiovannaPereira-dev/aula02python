{
  "nbformat": 4,
  "nbformat_minor": 0,
  "metadata": {
    "colab": {
      "name": "lista4-ex7.ipynb",
      "provenance": [],
      "authorship_tag": "ABX9TyNJpoDSdYqHEVVPOn2cNoI8",
      "include_colab_link": true
    },
    "kernelspec": {
      "name": "python3",
      "display_name": "Python 3"
    }
  },
  "cells": [
    {
      "cell_type": "markdown",
      "metadata": {
        "id": "view-in-github",
        "colab_type": "text"
      },
      "source": [
        "<a href=\"https://colab.research.google.com/github/GiovannaPereira-dev/lista4-pyhton/blob/master/lista4_ex7.ipynb\" target=\"_parent\"><img src=\"https://colab.research.google.com/assets/colab-badge.svg\" alt=\"Open In Colab\"/></a>"
      ]
    },
    {
      "cell_type": "code",
      "metadata": {
        "id": "8NWJytc49PeU"
      },
      "source": [
        "# Disciplina: Probabilidade e Estatística\n",
        "# Aluno: Giovanna Pereira Gomes\n",
        "# Lista 4\n",
        "\n",
        "num = int (input('digite um número entre 1 e 4: '))\n",
        "\n",
        "if num <= 4 and num >= 1:\n",
        "  print(num)\n",
        "else: \n",
        "  print('entrada inválida')"
      ],
      "execution_count": null,
      "outputs": []
    }
  ]
}