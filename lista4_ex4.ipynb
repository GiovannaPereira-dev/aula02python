{
  "nbformat": 4,
  "nbformat_minor": 0,
  "metadata": {
    "colab": {
      "name": "lista4-ex4.ipynb",
      "provenance": [],
      "authorship_tag": "ABX9TyM0jwTSinsn4tX/eEBXILWn",
      "include_colab_link": true
    },
    "kernelspec": {
      "name": "python3",
      "display_name": "Python 3"
    }
  },
  "cells": [
    {
      "cell_type": "markdown",
      "metadata": {
        "id": "view-in-github",
        "colab_type": "text"
      },
      "source": [
        "<a href=\"https://colab.research.google.com/github/GiovannaPereira-dev/lista4-pyhton/blob/master/lista4_ex4.ipynb\" target=\"_parent\"><img src=\"https://colab.research.google.com/assets/colab-badge.svg\" alt=\"Open In Colab\"/></a>"
      ]
    },
    {
      "cell_type": "code",
      "metadata": {
        "id": "upevWqqAVpT-"
      },
      "source": [
        "# Disciplina: Probabilidade e Estatística\n",
        "# Aluno: Giovanna Pereira Gomes\n",
        "# Lista 4\n",
        "\n",
        "r1 = float (input('primeiro segmento: '))\n",
        "r2 =  float (input('segundo segmento: '))\n",
        "r3 = float (input('terceiro segmento: '))\n",
        "if r1 < r2 + r3 and r2 < r1 + r3 and r3 < r1 + r2:\n",
        "  print('os segmentos acima podem formar um triângulo: ', end='')\n",
        "  if r1 == r2 == r3: # se todos os segmentos forem iguais será formado um triângulo equilátero\n",
        "  print('triângulo equilátero')\n",
        "  elif r1 != r2 != r3 != r1: # se todos os segmentos foram diferentes será formado um triângulo escaleno\n",
        "  print('triângulo escaleno')\n",
        "  else:\n",
        "    print('triângulo isósceles') # se todos não foram nem iguais e nem diferentes será formado um triângulo isósceles\n",
        "else:\n",
        "  print('os segmentos acima não podem formar um triângulo')"
      ],
      "execution_count": null,
      "outputs": []
    }
  ]
}