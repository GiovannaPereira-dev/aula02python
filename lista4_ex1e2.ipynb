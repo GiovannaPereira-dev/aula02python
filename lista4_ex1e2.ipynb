{
  "nbformat": 4,
  "nbformat_minor": 0,
  "metadata": {
    "colab": {
      "name": "lista4-ex1.ipynb",
      "provenance": [],
      "authorship_tag": "ABX9TyOIWD813RrOBqUF5rflGbLY",
      "include_colab_link": true
    },
    "kernelspec": {
      "name": "python3",
      "display_name": "Python 3"
    }
  },
  "cells": [
    {
      "cell_type": "markdown",
      "metadata": {
        "id": "view-in-github",
        "colab_type": "text"
      },
      "source": [
        "<a href=\"https://colab.research.google.com/github/GiovannaPereira-dev/aula02python/blob/master/lista4_ex1.ipynb\" target=\"_parent\"><img src=\"https://colab.research.google.com/assets/colab-badge.svg\" alt=\"Open In Colab\"/></a>"
      ]
    },
    {
      "cell_type": "code",
      "metadata": {
        "id": "fEeTyCULADGW"
      },
      "source": [
        "# Disciplina: Probabilidade e Estatística\n",
        "# Aluno: Giovanna Pereira Gomes\n",
        "# Lista 4\n",
        "\n",
        "def area-triangulo(cm):\n",
        "a = medida\n",
        "# calcular a altura usando h = sqrt(3)/2*a\n",
        "h = math.sqrt(3)/2*a\n",
        "# calcular área usando A = a*h/2\n",
        "area = a*h/2\n",
        "return area\n",
        "\n",
        "\n",
        "def area-pentagono(cm):\n",
        "# a = semiperimetro*apotema\n",
        "apotema = (medida/2)/0.726\n",
        "area = (5*medida)/2*apotema\n",
        "return area\n",
        "\n",
        "print('-='*50)\n",
        "print('Questões 1 e 2 - Escreva um programa para ler o número de lados de um polígono regular e a medida do lado (em cm). \\n calcular e imprimir o seguinte: \\n - Se o número de lados for igual a 3 escreve TRIÂNGULO e o valor da área \\n - Se o número de lados for igual a 4 escrever QUADRADO e o valor da sua área. \\n - Se o número de lados for igual a 5 escrever PENTÁGONO.')\n",
        "print('-='*50)\n",
        "poligono = int (input('Digite quantos lados terá o polígono regular:'))\n",
        "medida = int (input('Digite a medida do lado do polígono regular (em cm):'))\n",
        "if  poligono >= 3:\n",
        "  if poligono <= 5:\n",
        "    if poligono == 3:\n",
        "      area = area-triangulo(cm) # captura o valor da área do triangulo utilizando a função criada area-triangulo(cm)\n",
        "      print(f'TRIÂNGULO e o valor da area {round(area, 2)}')\n",
        "    elif poligono == 4:\n",
        "      # calcula a área do quadrado usando a equação area = base*altura\n",
        "      area = medida * medida\n",
        "      print(f'QUADRADO e o valor da area {round(area, 2)}')\n",
        "    elif poligono == 5:\n",
        "      area = area-pentagono(cm) #captura o valor da área do pentagono utilizando a função criada area-pentagono(cm)\n",
        "      print(f'PENTÁGONO e o valor da area {round(area, 2)}')\n",
        "else:\n",
        "  print('POLÍGONO NÃO IDENTIFICADO')\n",
        "else:\n",
        "  print('NÃO É UM POLÍGONO')"
      ],
      "execution_count": null,
      "outputs": []
    }
  ]
}
