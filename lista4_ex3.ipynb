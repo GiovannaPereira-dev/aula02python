{
  "nbformat": 4,
  "nbformat_minor": 0,
  "metadata": {
    "colab": {
      "name": "lista4-ex3.ipynb",
      "provenance": [],
      "authorship_tag": "ABX9TyNXg9+SbeKifsOXq+I7Q6Ww",
      "include_colab_link": true
    },
    "kernelspec": {
      "name": "python3",
      "display_name": "Python 3"
    }
  },
  "cells": [
    {
      "cell_type": "markdown",
      "metadata": {
        "id": "view-in-github",
        "colab_type": "text"
      },
      "source": [
        "<a href=\"https://colab.research.google.com/github/GiovannaPereira-dev/lista4-pyhton/blob/master/lista4_ex3.ipynb\" target=\"_parent\"><img src=\"https://colab.research.google.com/assets/colab-badge.svg\" alt=\"Open In Colab\"/></a>"
      ]
    },
    {
      "cell_type": "code",
      "metadata": {
        "id": "xzEtJ7lwPLX3"
      },
      "source": [
        "# Disciplina: Probabilidade e Estatística\n",
        "# Aluno: Giovanna Pereira Gomes\n",
        "# Lista 4\n",
        "\n",
        "numero1 = int(input(\"Primeiro número: \"))\n",
        "numero2 = int(input(\"Segundo número: \"))\n",
        "numero3 = int(input(\"Terceiro número: \"))\n",
        "# captura os números para serem comparados\n",
        "\n",
        "if numero1 > numero2 and numero1 > numero3:\n",
        "    print(\"O número um é o maior: \", numero1)\n",
        "# compara o primeiro número com os demais\n",
        "elif numero2 > numero1 and numero2 > numero3:\n",
        "    print(\"O número dois é o maior: \", numero2)\n",
        "# compara o segundo número com os demais\n",
        "elif numero3 > numero1 and numero3 > numero2:\n",
        "    print(\"O número três é o maior: \", numero3)\n",
        "# compara o terceiro número com os demais"
      ],
      "execution_count": null,
      "outputs": []
    }
  ]
}