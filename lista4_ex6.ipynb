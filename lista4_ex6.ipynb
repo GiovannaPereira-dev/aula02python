{
  "nbformat": 4,
  "nbformat_minor": 0,
  "metadata": {
    "colab": {
      "name": "lista4-ex6.ipynb",
      "provenance": [],
      "authorship_tag": "ABX9TyOrcpUxzivh9ggFGpibokwH",
      "include_colab_link": true
    },
    "kernelspec": {
      "name": "python3",
      "display_name": "Python 3"
    }
  },
  "cells": [
    {
      "cell_type": "markdown",
      "metadata": {
        "id": "view-in-github",
        "colab_type": "text"
      },
      "source": [
        "<a href=\"https://colab.research.google.com/github/GiovannaPereira-dev/lista4-pyhton/blob/master/lista4_ex6.ipynb\" target=\"_parent\"><img src=\"https://colab.research.google.com/assets/colab-badge.svg\" alt=\"Open In Colab\"/></a>"
      ]
    },
    {
      "cell_type": "code",
      "metadata": {
        "colab": {
          "base_uri": "https://localhost:8080/"
        },
        "id": "krCRTftIhpma",
        "outputId": "a01b3a68-91b7-4776-c5b0-cd05af6ab0f4"
      },
      "source": [
        "# Disciplina: Probabilidade e Estatística\n",
        "# Aluno: Giovanna Pereira Gomes\n",
        "# Lista 4\n",
        "\n",
        "num = int (input ('digite um número inteiro '))\n",
        "\n",
        "for _ in range(0, num + 1):\n",
        "  # for irá apresentar os números de 0 até o número digitado \n",
        "  print(_)"
      ],
      "execution_count": 1,
      "outputs": [
        {
          "output_type": "stream",
          "text": [
            "digite um número inteiro10\n",
            "0\n",
            "1\n",
            "2\n",
            "3\n",
            "4\n",
            "5\n",
            "6\n",
            "7\n",
            "8\n",
            "9\n",
            "10\n"
          ],
          "name": "stdout"
        }
      ]
    }
  ]
}