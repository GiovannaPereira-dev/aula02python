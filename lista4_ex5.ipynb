{
  "nbformat": 4,
  "nbformat_minor": 0,
  "metadata": {
    "colab": {
      "name": "lista4-ex5.ipynb",
      "provenance": [],
      "authorship_tag": "ABX9TyOgMRImKGz4sVp54eUVJyRD",
      "include_colab_link": true
    },
    "kernelspec": {
      "name": "python3",
      "display_name": "Python 3"
    }
  },
  "cells": [
    {
      "cell_type": "markdown",
      "metadata": {
        "id": "view-in-github",
        "colab_type": "text"
      },
      "source": [
        "<a href=\"https://colab.research.google.com/github/GiovannaPereira-dev/lista4-pyhton/blob/master/lista4_ex5.ipynb\" target=\"_parent\"><img src=\"https://colab.research.google.com/assets/colab-badge.svg\" alt=\"Open In Colab\"/></a>"
      ]
    },
    {
      "cell_type": "code",
      "metadata": {
        "id": "66-18WRhZfmv"
      },
      "source": [
        "# Disciplina: Probabilidade e Estatística\n",
        "# Aluno: Giovanna Pereira Gomes\n",
        "# Lista 4\n",
        "\n",
        "angulo1 = int (input('digite o valor do primeiro ângulo'))\n",
        "angulo2 = int (input('digite o valor do segundo ângulo'))\n",
        "angulo3 = int (input('digite o valor do terceiro ângulo'))\n",
        "\n",
        "if angulo1 == 90 or angulo2 == 90 or angulo3 == 90:\n",
        "  if angulo1 == 90 and angulo2 == 60 and angulo3 == 30: \n",
        "    # para ser um triângulo retângulo, um ângulo tem que ser 90 graus e os outros tem que ser 30 e 60\n",
        "   print('o triângulo é retângulo')\n",
        "  elif angulo1 == 60 and angulo2 == 30 and angulo3 == 90:\n",
        "    print('o triângulo é retângulo')\n",
        "  elif angulo1 == 30 and angulo2 == 90 and angulo3 == 60:\n",
        "    print('o triângulo é rtângulo')\n",
        "  elif angulo1 > 90 or angulo2 > 90 or angulo3 > 90: \n",
        "    # para ser um triângulo obtusângulo um dos ângulos tem que ser maior que 90 graus e o valor de todos os ângulos tem que dar uma soma total de 180 graus\n",
        "    if angulo1 + angulo2 + angulo3 == 180:\n",
        "      print('o triângulo é obtsuângulo')\n",
        "    else:\n",
        "      print('não foi possível identificar o triângulo')\n",
        "    elif angulo1 < 90 and angulo2 < 90 and angulo3 < 90:\n",
        "      #para ser acutângulo todos os ângulos tem que ser menor que 90 graus\n",
        "      print('o triângulo é acutângulo')"
      ],
      "execution_count": null,
      "outputs": []
    }
  ]
}